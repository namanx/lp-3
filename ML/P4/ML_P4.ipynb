{
 "cells": [
  {
   "cell_type": "code",
   "execution_count": null,
   "id": "92096981-8fcc-4f8f-bf3a-ef959716dded",
   "metadata": {},
   "outputs": [],
   "source": [
    "import numpy as np\n",
    "import matplotlib.pyplot as plt\n",
    "\n",
    "def function_to_minimize(x):\n",
    "    return (x + 3) ** 2\n",
    "\n",
    "def gradient(x):\n",
    "    return 2 * (x + 3)\n",
    "\n",
    "def gradient_descent(initial_x, learning_rate, precision, max_iterations):\n",
    "    x = initial_x\n",
    "    iteration = 0\n",
    "    x_history = [x]\n",
    "    y_history = [function_to_minimize(x)]\n",
    "\n",
    "    while iteration < max_iterations:\n",
    "        gradient_x = gradient(x)\n",
    "        new_x = x - learning_rate * gradient_x\n",
    "\n",
    "        x_history.append(new_x)\n",
    "        y_history.append(function_to_minimize(new_x))\n",
    "\n",
    "        if abs(x - new_x) < precision:\n",
    "            break\n",
    "\n",
    "        x = new_x\n",
    "        iteration += 1\n",
    "\n",
    "    return x_history, y_history\n",
    "\n",
    "initial_x = 2\n",
    "learning_rate = 0.01\n",
    "precision = 0.000001\n",
    "max_iterations = 10000\n",
    "print(f\"Local minimum at x = {x_history[-1]}\\n\")\n",
    "\n",
    "print(\"X history:\")\n",
    "for iteration, x_value in enumerate(x_history):\n",
    "    print(f\"Iteration {iteration}: x = {x_value}\")"
   ]
  },
  {
   "cell_type": "code",
   "execution_count": null,
   "id": "c5f4c08c-c17e-456c-9df2-d8f400eebe67",
   "metadata": {},
   "outputs": [],
   "source": [
    "# Plot the function\n",
    "x = np.linspace(-6, 2, 400)\n",
    "y = function_to_minimize(x)\n",
    "\n",
    "plt.plot(x, y, label='f(x) = (x + 3)²')\n",
    "plt.scatter(x_history, y_history, color='red', label='Gradient Descent Path')\n",
    "\n",
    "plt.title('Gradient Descent Convergence')\n",
    "plt.xlabel('x')\n",
    "plt.ylabel('f(x)')\n",
    "plt.legend()\n",
    "plt.grid()\n",
    "plt.show()"
   ]
  }
 ],
 "metadata": {
  "kernelspec": {
   "display_name": "Python 3 (ipykernel)",
   "language": "python",
   "name": "python3"
  },
  "language_info": {
   "codemirror_mode": {
    "name": "ipython",
    "version": 3
   },
   "file_extension": ".py",
   "mimetype": "text/x-python",
   "name": "python",
   "nbconvert_exporter": "python",
   "pygments_lexer": "ipython3",
   "version": "3.12.0"
  }
 },
 "nbformat": 4,
 "nbformat_minor": 5
}
