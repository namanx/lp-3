{
 "cells": [
  {
   "cell_type": "code",
   "execution_count": null,
   "id": "c38e9ff1-5d07-4ea6-bbb5-0c57e0ae94d5",
   "metadata": {},
   "outputs": [],
   "source": [
    "import pandas as pd\n",
    "import seaborn as sns"
   ]
  },
  {
   "cell_type": "code",
   "execution_count": null,
   "id": "2e138b48-5c6b-45e2-80b3-56cd99eceab1",
   "metadata": {},
   "outputs": [],
   "source": [
    "df = pd.read_csv('./Churn_Modelling.csv')"
   ]
  },
  {
   "cell_type": "code",
   "execution_count": null,
   "id": "831e1bdb-93f8-4b74-a754-170316704097",
   "metadata": {},
   "outputs": [],
   "source": [
    "df.shape"
   ]
  },
  {
   "cell_type": "code",
   "execution_count": null,
   "id": "303b2223-6aed-41e9-9199-cb40fca53929",
   "metadata": {},
   "outputs": [],
   "source": [
    "df.columns"
   ]
  },
  {
   "cell_type": "code",
   "execution_count": null,
   "id": "ec6e1b58-8c7b-446a-a8ae-ec532928f855",
   "metadata": {},
   "outputs": [],
   "source": [
    "df.head()"
   ]
  },
  {
   "cell_type": "code",
   "execution_count": null,
   "id": "7021bc47-eaa0-439d-8391-0dc5b924c6c5",
   "metadata": {},
   "outputs": [],
   "source": [
    "x = df[['CreditScore','Age','Tenure','Balance','NumOfProducts','HasCrCard',\n",
    "        'IsActiveMember','EstimatedSalary']]\n",
    "\n",
    "y = df['Exited']"
   ]
  },
  {
   "cell_type": "code",
   "execution_count": null,
   "id": "88e98b07-b475-4f49-96c1-99605debe782",
   "metadata": {},
   "outputs": [],
   "source": [
    "x"
   ]
  },
  {
   "cell_type": "code",
   "execution_count": null,
   "id": "b6d65970-67c2-4cb5-af3e-c8eb0a1b47ad",
   "metadata": {},
   "outputs": [],
   "source": [
    "sns.countplot(x = y);"
   ]
  },
  {
   "cell_type": "code",
   "execution_count": null,
   "id": "877abf3d-95c1-4848-a429-93900b18ff0f",
   "metadata": {},
   "outputs": [],
   "source": [
    "y.value_counts()"
   ]
  },
  {
   "cell_type": "code",
   "execution_count": null,
   "id": "30a8eba8-694b-49da-919c-7a4a0e2d3369",
   "metadata": {},
   "outputs": [],
   "source": [
    "from sklearn.preprocessing import StandardScaler"
   ]
  },
  {
   "cell_type": "code",
   "execution_count": null,
   "id": "4fea93ea-86e8-4d68-956d-36e3c2b6e260",
   "metadata": {},
   "outputs": [],
   "source": [
    "scaler = StandardScaler()"
   ]
  },
  {
   "cell_type": "code",
   "execution_count": null,
   "id": "2719de9a-6d01-4360-89ae-2b66baf8b037",
   "metadata": {},
   "outputs": [],
   "source": [
    "x_scaled = scaler.fit_transform(x)"
   ]
  },
  {
   "cell_type": "code",
   "execution_count": null,
   "id": "6db2c4eb-ad65-43c1-931d-c66c53442381",
   "metadata": {},
   "outputs": [],
   "source": [
    "x_scaled"
   ]
  },
  {
   "cell_type": "code",
   "execution_count": null,
   "id": "48af660c-3ce5-4d83-830d-27800262a943",
   "metadata": {},
   "outputs": [],
   "source": [
    "from sklearn.model_selection import train_test_split"
   ]
  },
  {
   "cell_type": "code",
   "execution_count": null,
   "id": "f0051afa-fa63-4ab8-8d36-746d3578ec55",
   "metadata": {},
   "outputs": [],
   "source": [
    "x_train, x_test, y_train, y_test = train_test_split(x_scaled,y,random_state =0, test_size=0.25)"
   ]
  },
  {
   "cell_type": "code",
   "execution_count": null,
   "id": "b4db5eb0-c651-494e-80e9-d7aea39cd79f",
   "metadata": {},
   "outputs": [],
   "source": [
    "x.shape"
   ]
  },
  {
   "cell_type": "code",
   "execution_count": null,
   "id": "5b2704e4-a617-4aee-9031-57e85c9c0f5b",
   "metadata": {},
   "outputs": [],
   "source": [
    "x_test.shape"
   ]
  },
  {
   "cell_type": "code",
   "execution_count": null,
   "id": "78c2780a-7901-44cb-83bb-a88e6259c2cd",
   "metadata": {},
   "outputs": [],
   "source": [
    "x_train.shape"
   ]
  },
  {
   "cell_type": "code",
   "execution_count": null,
   "id": "6bcad6ed-40d5-441a-a650-29ce80a6112c",
   "metadata": {},
   "outputs": [],
   "source": [
    "from sklearn.neural_network import MLPClassifier"
   ]
  },
  {
   "cell_type": "code",
   "execution_count": null,
   "id": "050ea0b7-9c47-48da-9e2d-3da4343a3ac7",
   "metadata": {},
   "outputs": [],
   "source": [
    "ann = MLPClassifier(hidden_layer_sizes=(100,100,100), random_state=0,\n",
    "                    max_iter=100, activation = 'relu')"
   ]
  },
  {
   "cell_type": "code",
   "execution_count": null,
   "id": "3ad43769-b2e4-4497-b624-c6cdcd88ab3d",
   "metadata": {},
   "outputs": [],
   "source": [
    "ann.fit(x_train, y_train)"
   ]
  },
  {
   "cell_type": "code",
   "execution_count": null,
   "id": "f4bd5262-9701-459a-be09-a27e12e48ecc",
   "metadata": {},
   "outputs": [],
   "source": [
    "y_pred = ann.predict(x_test)"
   ]
  },
  {
   "cell_type": "code",
   "execution_count": null,
   "id": "8ba330e9-1892-43ba-b43b-cf3c1d730347",
   "metadata": {},
   "outputs": [],
   "source": [
    "y_pred"
   ]
  },
  {
   "cell_type": "code",
   "execution_count": null,
   "id": "524f6cef-a626-4493-affa-a46be9288716",
   "metadata": {},
   "outputs": [],
   "source": [
    "from sklearn.metrics import ConfusionMatrixDisplay, classification_report\n",
    "from sklearn.metrics import accuracy_score"
   ]
  },
  {
   "cell_type": "code",
   "execution_count": null,
   "id": "876a5d96-5533-4a28-91f2-d542cb9b1df9",
   "metadata": {},
   "outputs": [],
   "source": [
    "y_test.value_counts()"
   ]
  },
  {
   "cell_type": "code",
   "execution_count": null,
   "id": "ff786875-c182-4436-bf84-fcff62275391",
   "metadata": {},
   "outputs": [],
   "source": [
    "ConfusionMatrixDisplay.from_predictions(y_test, y_pred)"
   ]
  },
  {
   "cell_type": "code",
   "execution_count": null,
   "id": "907bd44e-91e7-4d5d-b9cd-1b5d1d5e38be",
   "metadata": {},
   "outputs": [],
   "source": [
    "before = accuracy_score(y_test, y_pred)\n",
    "before"
   ]
  },
  {
   "cell_type": "code",
   "execution_count": null,
   "id": "98a77f4c-7d43-4aa7-9381-da3fbb27566f",
   "metadata": {},
   "outputs": [],
   "source": [
    "print(classification_report(y_test, y_pred))"
   ]
  },
  {
   "cell_type": "code",
   "execution_count": null,
   "id": "01cbddeb-f211-49d2-a76f-02b0a30052c8",
   "metadata": {},
   "outputs": [],
   "source": [
    "from imblearn.over_sampling import RandomOverSampler\n",
    "ros = RandomOverSampler(random_state=0)"
   ]
  },
  {
   "cell_type": "code",
   "execution_count": null,
   "id": "7fdf8934-8bef-4808-b7b0-55257f9408dd",
   "metadata": {},
   "outputs": [],
   "source": [
    "x_res, y_res = ros.fit_resample(x, y)"
   ]
  },
  {
   "cell_type": "code",
   "execution_count": null,
   "id": "6d4457b6-d40e-40f7-91e3-91676818bd92",
   "metadata": {},
   "outputs": [],
   "source": [
    "y_res.value_counts()"
   ]
  },
  {
   "cell_type": "code",
   "execution_count": null,
   "id": "fbd061c9-2a42-4efa-b024-aaa37313511a",
   "metadata": {},
   "outputs": [],
   "source": [
    "scaler = StandardScaler()\n",
    "x_scaled = scaler.fit_transform(x_res)\n",
    "x_scaled"
   ]
  },
  {
   "cell_type": "code",
   "execution_count": null,
   "id": "8327fac1-e6c4-4ad0-8d1d-4fa471c1878d",
   "metadata": {},
   "outputs": [],
   "source": [
    "x_train, x_test, y_train, y_test = train_test_split(x_scaled,y_res,random_state =0, test_size=0.25)"
   ]
  },
  {
   "cell_type": "code",
   "execution_count": null,
   "id": "76d4073b-e654-465f-b408-9142b3df36c6",
   "metadata": {},
   "outputs": [],
   "source": [
    "x_res.shape"
   ]
  },
  {
   "cell_type": "code",
   "execution_count": null,
   "id": "6e541685-7fc3-4339-b7ff-3f71258e7c2b",
   "metadata": {},
   "outputs": [],
   "source": [
    "x_test.shape"
   ]
  },
  {
   "cell_type": "code",
   "execution_count": null,
   "id": "dfb008f9-d71e-46ad-8afa-0dbc89f8c691",
   "metadata": {},
   "outputs": [],
   "source": [
    "x_train.shape"
   ]
  },
  {
   "cell_type": "code",
   "execution_count": null,
   "id": "8ec1f2ef-50dd-4d6c-b18c-46496be02ffc",
   "metadata": {},
   "outputs": [],
   "source": [
    "ann = MLPClassifier(hidden_layer_sizes=(100,100,100), random_state=0,\n",
    "                    max_iter=100, activation = 'relu')"
   ]
  },
  {
   "cell_type": "code",
   "execution_count": null,
   "id": "1cdc24dd-dcb8-45be-bde4-ac549905abbf",
   "metadata": {},
   "outputs": [],
   "source": [
    "ann.fit(x_train, y_train)"
   ]
  },
  {
   "cell_type": "code",
   "execution_count": null,
   "id": "9e1efef0-b36b-4d75-af32-b2362125ce73",
   "metadata": {},
   "outputs": [],
   "source": [
    "y_pred = ann.predict(x_test)\n",
    "y_pred"
   ]
  },
  {
   "cell_type": "code",
   "execution_count": null,
   "id": "311dc686-724a-487b-bf7e-00c3377bc130",
   "metadata": {},
   "outputs": [],
   "source": [
    "y_test.value_counts()"
   ]
  },
  {
   "cell_type": "code",
   "execution_count": null,
   "id": "e4e0fc43-8649-4bb2-8531-abc1ad7ae68d",
   "metadata": {},
   "outputs": [],
   "source": [
    "ConfusionMatrixDisplay.from_predictions(y_test, y_pred)"
   ]
  },
  {
   "cell_type": "code",
   "execution_count": null,
   "id": "2ae3c5d3-7cbe-4f73-82e5-8bacd5b8d1ac",
   "metadata": {},
   "outputs": [],
   "source": [
    "after = accuracy_score(y_test, y_pred)\n",
    "after"
   ]
  },
  {
   "cell_type": "code",
   "execution_count": null,
   "id": "3a47509f-e5ba-4aea-aa69-4786e6f76d9a",
   "metadata": {},
   "outputs": [],
   "source": [
    "print(classification_report(y_test, y_pred))"
   ]
  },
  {
   "cell_type": "code",
   "execution_count": null,
   "id": "312c49f5-eef7-48e0-86b3-527c168c6d28",
   "metadata": {},
   "outputs": [],
   "source": [
    "import matplotlib.pyplot as plt\n",
    "\n",
    "accuracy_scores = [before, after]\n",
    "\n",
    "labels = ['Before Optimization', 'After Optimization']\n",
    "\n",
    "plt.figure(figsize=(8, 5))\n",
    "plt.plot(labels, accuracy_scores, marker='o', linestyle='-', color='b')\n",
    "plt.title('Comparison of ANN Accuracy Scores')\n",
    "plt.xlabel('Optimization Status')\n",
    "plt.ylabel('Accuracy Score')\n",
    "plt.ylim(0.8, 0.9)  \n",
    "plt.grid(True)\n",
    "plt.show()"
   ]
  }
 ],
 "metadata": {
  "kernelspec": {
   "display_name": "Python 3 (ipykernel)",
   "language": "python",
   "name": "python3"
  },
  "language_info": {
   "codemirror_mode": {
    "name": "ipython",
    "version": 3
   },
   "file_extension": ".py",
   "mimetype": "text/x-python",
   "name": "python",
   "nbconvert_exporter": "python",
   "pygments_lexer": "ipython3",
   "version": "3.12.0"
  }
 },
 "nbformat": 4,
 "nbformat_minor": 5
}
