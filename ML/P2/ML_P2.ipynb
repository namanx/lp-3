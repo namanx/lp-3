{
 "cells": [
  {
   "cell_type": "code",
   "execution_count": null,
   "id": "eaea0f4f-4436-448a-8675-f31d1e742167",
   "metadata": {},
   "outputs": [],
   "source": [
    "import pandas as pd\n",
    "import seaborn as sns\n",
    "import numpy as np\n",
    "import matplotlib.pyplot as plt"
   ]
  },
  {
   "cell_type": "code",
   "execution_count": null,
   "id": "79f52ed1-9185-477f-a532-9653778ef6ed",
   "metadata": {},
   "outputs": [],
   "source": [
    "df = pd.read_csv(\"./emails.csv\")\n",
    "df.shape"
   ]
  },
  {
   "cell_type": "code",
   "execution_count": null,
   "id": "0e553698-a286-4ddd-9a66-69161964b5f6",
   "metadata": {},
   "outputs": [],
   "source": [
    "df.head()"
   ]
  },
  {
   "cell_type": "code",
   "execution_count": null,
   "id": "1cf44d17-d703-4ef2-af2f-1e25797c10bb",
   "metadata": {},
   "outputs": [],
   "source": [
    "x = df.drop(['Email No.','Prediction'],axis = 1)\n",
    "\n",
    "y = df['Prediction']"
   ]
  },
  {
   "cell_type": "code",
   "execution_count": null,
   "id": "a60d1cce-2961-4037-96fd-7a488bbdd5a3",
   "metadata": {},
   "outputs": [],
   "source": [
    "x.shape"
   ]
  },
  {
   "cell_type": "code",
   "execution_count": null,
   "id": "3262c762-a3dd-4abe-b293-189d0aacbdb9",
   "metadata": {},
   "outputs": [],
   "source": [
    "x.dtypes"
   ]
  },
  {
   "cell_type": "code",
   "execution_count": null,
   "id": "8c9f28ef-9dcc-4081-909b-108c38f82f21",
   "metadata": {},
   "outputs": [],
   "source": [
    "set(x.dtypes)"
   ]
  },
  {
   "cell_type": "code",
   "execution_count": null,
   "id": "4fa95a1c-cc85-458d-9123-96188e3e3dc8",
   "metadata": {},
   "outputs": [],
   "source": [
    "sns.countplot(x = y);"
   ]
  },
  {
   "cell_type": "code",
   "execution_count": null,
   "id": "75a7e80e-bb2e-41a9-9b5f-3344da5c175c",
   "metadata": {},
   "outputs": [],
   "source": [
    "y.value_counts()"
   ]
  },
  {
   "cell_type": "code",
   "execution_count": null,
   "id": "dbdd57c6-5267-4602-b39d-7266ebf4ee6e",
   "metadata": {},
   "outputs": [],
   "source": [
    "from sklearn.preprocessing import MinMaxScaler\n",
    "scaler = MinMaxScaler()\n",
    "x_scaled = scaler.fit_transform(x)"
   ]
  },
  {
   "cell_type": "code",
   "execution_count": null,
   "id": "50fe37c0-ab39-4c45-8028-acedc9db9d42",
   "metadata": {},
   "outputs": [],
   "source": [
    "x_scaled"
   ]
  },
  {
   "cell_type": "code",
   "execution_count": null,
   "id": "0d67868e-aa62-4945-b35f-15e77de86291",
   "metadata": {},
   "outputs": [],
   "source": [
    "from sklearn.model_selection import train_test_split\n",
    "x_train, x_test, y_train, y_test = train_test_split(x_scaled,y,random_state = 0, test_size = 0.25)"
   ]
  },
  {
   "cell_type": "code",
   "execution_count": null,
   "id": "b1ed1b45-d98b-4442-9fdc-6882de0c5b64",
   "metadata": {},
   "outputs": [],
   "source": [
    "x_scaled.shape"
   ]
  },
  {
   "cell_type": "code",
   "execution_count": null,
   "id": "f34c8d94-3eda-465c-adca-aaf8478aa602",
   "metadata": {},
   "outputs": [],
   "source": [
    "x_train.shape"
   ]
  },
  {
   "cell_type": "code",
   "execution_count": null,
   "id": "fa115d4d-3aac-472d-ae00-4cdc5fb6f8b3",
   "metadata": {},
   "outputs": [],
   "source": [
    "x_test.shape"
   ]
  },
  {
   "cell_type": "code",
   "execution_count": null,
   "id": "5e4f373e-b389-473d-a59f-439ef3b921f9",
   "metadata": {},
   "outputs": [],
   "source": [
    "from sklearn.neighbors import KNeighborsClassifier"
   ]
  },
  {
   "cell_type": "code",
   "execution_count": null,
   "id": "bf49afe0-559d-488b-887e-8390560f7a73",
   "metadata": {},
   "outputs": [],
   "source": [
    "knn = KNeighborsClassifier(n_neighbors=5)"
   ]
  },
  {
   "cell_type": "code",
   "execution_count": null,
   "id": "a9b3e3ac-cc70-4c2e-8f44-13192aa42e78",
   "metadata": {},
   "outputs": [],
   "source": [
    "knn.fit(x_train, y_train)"
   ]
  },
  {
   "cell_type": "code",
   "execution_count": null,
   "id": "99b3a673-14d0-4a4f-b15b-b40c41f36555",
   "metadata": {},
   "outputs": [],
   "source": [
    "y_pred = knn.predict(x_test)"
   ]
  },
  {
   "cell_type": "code",
   "execution_count": null,
   "id": "6e823547-c4d8-4eaf-88f6-979de1af70bc",
   "metadata": {},
   "outputs": [],
   "source": [
    "from sklearn.metrics import ConfusionMatrixDisplay, accuracy_score\n",
    "from sklearn.metrics import classification_report"
   ]
  },
  {
   "cell_type": "code",
   "execution_count": null,
   "id": "049df0af-71dc-425c-b873-0c196540d439",
   "metadata": {},
   "outputs": [],
   "source": [
    "ConfusionMatrixDisplay.from_predictions(y_test, y_pred)"
   ]
  },
  {
   "cell_type": "code",
   "execution_count": null,
   "id": "d10b63da-697d-47e7-bfe3-ff9c9ac827e4",
   "metadata": {},
   "outputs": [],
   "source": [
    "y_test.value_counts()"
   ]
  },
  {
   "cell_type": "code",
   "execution_count": null,
   "id": "1283faaf-dd60-4230-bdb0-b72c4f34112c",
   "metadata": {},
   "outputs": [],
   "source": [
    "accuracy_score(y_test, y_pred)"
   ]
  },
  {
   "cell_type": "code",
   "execution_count": null,
   "id": "b0c362da-5352-43ed-a959-3fcf5c1ac89d",
   "metadata": {},
   "outputs": [],
   "source": [
    "print(classification_report(y_test, y_pred))"
   ]
  },
  {
   "cell_type": "code",
   "execution_count": null,
   "id": "6b19bf6f-2dce-47bd-bc6a-16f5d354666f",
   "metadata": {},
   "outputs": [],
   "source": [
    "error = []\n",
    "for k in range(1,41):\n",
    "  knn = KNeighborsClassifier(n_neighbors=k)\n",
    "  knn.fit(x_train, y_train)\n",
    "  pred = knn.predict(x_test)\n",
    "  error.append(np.mean(pred != y_test))"
   ]
  },
  {
   "cell_type": "code",
   "execution_count": null,
   "id": "ebf52e5b-e7a1-440a-98d0-b42c43d99d75",
   "metadata": {},
   "outputs": [],
   "source": [
    "error"
   ]
  },
  {
   "cell_type": "code",
   "execution_count": null,
   "id": "8601a9c2-3679-4317-9319-468272bdbcf8",
   "metadata": {},
   "outputs": [],
   "source": [
    "knn = KNeighborsClassifier(n_neighbors=1)"
   ]
  },
  {
   "cell_type": "code",
   "execution_count": null,
   "id": "fc1a650e-4591-4c5b-8228-35bba4481c1b",
   "metadata": {},
   "outputs": [],
   "source": [
    "knn.fit(x_train, y_train)"
   ]
  },
  {
   "cell_type": "code",
   "execution_count": null,
   "id": "cddaad72-248e-4793-b71b-b3849db16754",
   "metadata": {},
   "outputs": [],
   "source": [
    "y_pred = knn.predict(x_test)"
   ]
  },
  {
   "cell_type": "code",
   "execution_count": null,
   "id": "178d437e-2cd7-401b-b05d-5a8f84d37431",
   "metadata": {},
   "outputs": [],
   "source": [
    "Knn_accuracy = accuracy_score(y_test, y_pred)\n",
    "print(Knn_accuracy)"
   ]
  },
  {
   "cell_type": "code",
   "execution_count": null,
   "id": "9b952187-e1bb-4d8e-b123-8c6df600dd9f",
   "metadata": {},
   "outputs": [],
   "source": [
    "from sklearn.svm import SVC\n",
    "svm = SVC(kernel='linear')"
   ]
  },
  {
   "cell_type": "code",
   "execution_count": null,
   "id": "764ac2f7-7a58-4360-9045-ecc92a338c07",
   "metadata": {},
   "outputs": [],
   "source": [
    "svm.fit(x_train, y_train)"
   ]
  },
  {
   "cell_type": "code",
   "execution_count": null,
   "id": "4689b12e-7cbf-450d-89f0-7916a0c1572b",
   "metadata": {},
   "outputs": [],
   "source": [
    "y_pred = svm.predict(x_test)\n",
    "LSVM = accuracy_score(y_test, y_pred)\n",
    "print(LSVM)"
   ]
  },
  {
   "cell_type": "code",
   "execution_count": null,
   "id": "688d4269-56f2-4f57-a247-d3b35ad2e46d",
   "metadata": {},
   "outputs": [],
   "source": [
    "from sklearn.svm import SVC\n",
    "svm = SVC(kernel='rbf')\n",
    "svm.fit(x_train, y_train)\n",
    "y_pred = svm.predict(x_test)\n",
    "RBF_SVM = accuracy_score(y_test, y_pred)\n",
    "print(RBF_SVM)"
   ]
  },
  {
   "cell_type": "code",
   "execution_count": null,
   "id": "83c0e584-4131-4f6a-86ca-c561d86a2dc5",
   "metadata": {},
   "outputs": [],
   "source": [
    "svm = SVC(kernel='poly')\n",
    "svm.fit(x_train, y_train)\n",
    "y_pred = svm.predict(x_test)\n",
    "PolySVM = accuracy_score(y_test, y_pred)\n",
    "print(PolySVM)"
   ]
  },
  {
   "cell_type": "code",
   "execution_count": null,
   "id": "1003616e-6958-4154-9741-445ba688274a",
   "metadata": {},
   "outputs": [],
   "source": [
    "from sklearn.svm import SVC\n",
    "svm = SVC(kernel='sigmoid')\n",
    "svm.fit(x_train, y_train)\n",
    "y_pred = svm.predict(x_test)\n",
    "Sigmoid_SVM = accuracy_score(y_test, y_pred)\n",
    "print(Sigmoid_SVM)"
   ]
  },
  {
   "cell_type": "code",
   "execution_count": null,
   "id": "863c5ba8-6b9e-4658-aff3-e71dc3e61c92",
   "metadata": {},
   "outputs": [],
   "source": [
    "models = [\"KNN\", \"Linear SVM\", \"Sigmoid SVM\", \"Polynomial SVM\", \"RBF SVM\"]\n",
    "accuracy_scores = [Knn_accuracy, LSVM, Sigmoid_SVM, PolySVM, RBF_SVM]"
   ]
  },
  {
   "cell_type": "code",
   "execution_count": null,
   "id": "fc474871-a5cc-4318-8c8a-20c3572688d0",
   "metadata": {},
   "outputs": [],
   "source": [
    "plt.figure(figsize=(10, 6))\n",
    "sns.set(style=\"whitegrid\")\n",
    "plt.bar(models, accuracy_scores, color='skyblue')\n",
    "plt.title('Accuracy Scores of Different Models')\n",
    "plt.xlabel('Machine Learning Model')\n",
    "plt.ylabel('Accuracy Score')\n",
    "plt.ylim(0, 1) \n",
    "plt.xticks(rotation=45)  \n",
    "plt.show()\n"
   ]
  }
 ],
 "metadata": {
  "kernelspec": {
   "display_name": "Python 3 (ipykernel)",
   "language": "python",
   "name": "python3"
  },
  "language_info": {
   "codemirror_mode": {
    "name": "ipython",
    "version": 3
   },
   "file_extension": ".py",
   "mimetype": "text/x-python",
   "name": "python",
   "nbconvert_exporter": "python",
   "pygments_lexer": "ipython3",
   "version": "3.12.0"
  }
 },
 "nbformat": 4,
 "nbformat_minor": 5
}
