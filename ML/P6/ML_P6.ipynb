{
 "cells": [
  {
   "cell_type": "code",
   "execution_count": null,
   "id": "f65cdccd-3c44-49ad-a325-714c71fa2adf",
   "metadata": {},
   "outputs": [],
   "source": [
    "import numpy as np\n",
    "import pandas as pd\n",
    "import os\n",
    "import seaborn as sns\n",
    "import matplotlib.pyplot as plt\n",
    "from sklearn.cluster import KMeans"
   ]
  },
  {
   "cell_type": "code",
   "execution_count": null,
   "id": "757b9e75-7af0-4458-a76e-eb4808c0949d",
   "metadata": {},
   "outputs": [],
   "source": [
    "df = pd.read_csv(\"./sales_data_sample.csv\",encoding='latin')"
   ]
  },
  {
   "cell_type": "code",
   "execution_count": null,
   "id": "853e844c-b669-467c-aff9-d971fb06fed5",
   "metadata": {},
   "outputs": [],
   "source": [
    "df.head()"
   ]
  },
  {
   "cell_type": "code",
   "execution_count": null,
   "id": "e85f0096-10cf-489d-b212-d5ed969a9de8",
   "metadata": {},
   "outputs": [],
   "source": [
    "df.describe()"
   ]
  },
  {
   "cell_type": "code",
   "execution_count": null,
   "id": "49f4f281-c177-44c2-ba28-7cd815920fb5",
   "metadata": {},
   "outputs": [],
   "source": [
    "df.shape"
   ]
  },
  {
   "cell_type": "code",
   "execution_count": null,
   "id": "2a22afbf-b71a-443f-874d-0e7937246196",
   "metadata": {},
   "outputs": [],
   "source": [
    "df = df[['QUANTITYORDERED', 'ORDERLINENUMBER']]\n",
    "df = df.dropna(axis = 0)\n",
    "wcss = []\n",
    "\n",
    "for i in range(1, 11):\n",
    "    clustering = KMeans(n_clusters=i, init='k-means++',n_init=10, random_state=42)\n",
    "    clustering.fit(df)\n",
    "    wcss.append(clustering.inertia_)\n",
    "\n",
    "ks = [1, 2, 3, 4, 5, 6, 7, 8, 9, 10]\n",
    "sns.lineplot(x = ks, y = wcss);"
   ]
  },
  {
   "cell_type": "code",
   "execution_count": null,
   "id": "9abb8b60-1137-468a-9d70-d73518392d9b",
   "metadata": {},
   "outputs": [],
   "source": [
    "fig, axes = plt.subplots(nrows=1, ncols=2, figsize=(15,5))\n",
    "sns.scatterplot(ax=axes[0], data=df, x='QUANTITYORDERED', y='ORDERLINENUMBER').set_title('Without clustering')\n",
    "sns.scatterplot(ax=axes[1], data=df, x='QUANTITYORDERED', y='ORDERLINENUMBER', hue=clustering.labels_).set_title('Using the elbow method');"
   ]
  },
  {
   "cell_type": "code",
   "execution_count": null,
   "id": "c076cf49-2d40-4dc5-931f-5dc162588640",
   "metadata": {},
   "outputs": [],
   "source": [
    "df.describe().T"
   ]
  },
  {
   "cell_type": "code",
   "execution_count": null,
   "id": "981b5d87-1570-4cd7-bb11-2a0edf028645",
   "metadata": {},
   "outputs": [],
   "source": [
    "from sklearn.preprocessing import StandardScaler\n",
    "\n",
    "ss = StandardScaler()\n",
    "scaled = ss.fit_transform(df)\n",
    "wcss_sc = []\n",
    "\n",
    "for i in range(1, 11):\n",
    "    clustering_sc = KMeans(n_clusters=i, init='k-means++',n_init=10, random_state=42)\n",
    "    clustering_sc.fit(scaled)\n",
    "    wcss_sc.append(clustering_sc.inertia_)\n",
    "\n",
    "ks = [1, 2, 3, 4, 5, 6, 7, 8, 9, 10]\n",
    "sns.lineplot(x = ks, y = wcss_sc);"
   ]
  },
  {
   "cell_type": "code",
   "execution_count": null,
   "id": "74c281b7-b21f-4be4-9749-d1c4c76e916e",
   "metadata": {},
   "outputs": [],
   "source": [
    "fig, axes = plt.subplots(nrows=1, ncols=3, figsize=(15,5))\n",
    "sns.scatterplot(ax=axes[0], data=df, x='QUANTITYORDERED', y='ORDERLINENUMBER').set_title('Without cliustering')\n",
    "sns.scatterplot(ax=axes[1], data=df, x='QUANTITYORDERED', y='ORDERLINENUMBER', hue=clustering.labels_).set_title('With the Elbow method')\n",
    "sns.scatterplot(ax=axes[2], data=df, x='QUANTITYORDERED', y='ORDERLINENUMBER', hue=clustering_sc.labels_).set_title('With the Elbow method and scaled data');"
   ]
  }
 ],
 "metadata": {
  "kernelspec": {
   "display_name": "Python 3 (ipykernel)",
   "language": "python",
   "name": "python3"
  },
  "language_info": {
   "codemirror_mode": {
    "name": "ipython",
    "version": 3
   },
   "file_extension": ".py",
   "mimetype": "text/x-python",
   "name": "python",
   "nbconvert_exporter": "python",
   "pygments_lexer": "ipython3",
   "version": "3.12.0"
  }
 },
 "nbformat": 4,
 "nbformat_minor": 5
}
