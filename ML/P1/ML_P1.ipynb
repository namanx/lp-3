{
 "cells": [
  {
   "cell_type": "code",
   "execution_count": null,
   "id": "5bd77911-f832-496a-9004-b018a6113f4c",
   "metadata": {},
   "outputs": [],
   "source": [
    "import pandas as pd\n",
    "import numpy as np\n",
    "import matplotlib.pyplot as plt\n",
    "import seaborn as sns\n",
    "from sklearn.model_selection import train_test_split"
   ]
  },
  {
   "cell_type": "code",
   "execution_count": null,
   "id": "131740e3-927b-4e23-8947-748c1b1975fa",
   "metadata": {},
   "outputs": [],
   "source": [
    "df = pd.read_csv('./uber.csv')\n",
    "df.info()"
   ]
  },
  {
   "cell_type": "code",
   "execution_count": null,
   "id": "883e7e88-0661-4e5a-a1f5-01d4482315d0",
   "metadata": {},
   "outputs": [],
   "source": [
    "df.shape"
   ]
  },
  {
   "cell_type": "code",
   "execution_count": null,
   "id": "c18c6719-0a9f-4170-9f29-1908014a9cc2",
   "metadata": {},
   "outputs": [],
   "source": [
    "df.head()"
   ]
  },
  {
   "cell_type": "code",
   "execution_count": null,
   "id": "fab8ea16-4d0a-4ebb-af96-337af39bcc14",
   "metadata": {},
   "outputs": [],
   "source": [
    "df.isnull()"
   ]
  },
  {
   "cell_type": "code",
   "execution_count": null,
   "id": "3bc0b078-54c7-4c8c-b54c-875e24e77071",
   "metadata": {},
   "outputs": [],
   "source": [
    "df.drop(columns=[\"Unnamed: 0\", \"key\"], inplace=True)\n",
    "df.head()"
   ]
  },
  {
   "cell_type": "code",
   "execution_count": null,
   "id": "eaf695e1-3596-4873-ad26-728b6a89d138",
   "metadata": {},
   "outputs": [],
   "source": [
    "df.isnull().sum()"
   ]
  },
  {
   "cell_type": "code",
   "execution_count": null,
   "id": "003677db-ceca-4af9-b552-8bd4e78669a3",
   "metadata": {},
   "outputs": [],
   "source": [
    "df['dropoff_latitude'].fillna(value=df['dropoff_latitude'].mean(),inplace = True)\n",
    "df['dropoff_longitude'].fillna(value=df['dropoff_longitude'].median(),inplace = True)"
   ]
  },
  {
   "cell_type": "code",
   "execution_count": null,
   "id": "441192a1-64ac-493a-b4ae-0e5d992d5f24",
   "metadata": {},
   "outputs": [],
   "source": [
    "df.dtypes"
   ]
  },
  {
   "cell_type": "code",
   "execution_count": null,
   "id": "04641e10-b2fb-4986-97bc-897ef72e96da",
   "metadata": {},
   "outputs": [],
   "source": [
    "df.pickup_datetime = pd.to_datetime(df.pickup_datetime)\n",
    "df.dtypes"
   ]
  },
  {
   "cell_type": "code",
   "execution_count": null,
   "id": "63164a55-9233-45f9-882a-c1e2dad8104d",
   "metadata": {},
   "outputs": [],
   "source": [
    "df = df.assign(hour = df.pickup_datetime.dt.hour,\n",
    "               day = df.pickup_datetime.dt.day,\n",
    "               month = df.pickup_datetime.dt.month,\n",
    "               year = df.pickup_datetime.dt.year,\n",
    "               dayofweek = df.pickup_datetime.dt.dayofweek)"
   ]
  },
  {
   "cell_type": "code",
   "execution_count": null,
   "id": "2fdb2d10-d689-481f-9a15-16ab21101695",
   "metadata": {},
   "outputs": [],
   "source": [
    "df"
   ]
  },
  {
   "cell_type": "code",
   "execution_count": null,
   "id": "f8248605-f7bb-48e6-896d-21daeb265c25",
   "metadata": {},
   "outputs": [],
   "source": [
    "df = df.drop([\"pickup_datetime\"], axis =1)\n",
    "df"
   ]
  },
  {
   "cell_type": "code",
   "execution_count": null,
   "id": "2545dcc6-5c36-4db7-b806-7ba1a53d80c1",
   "metadata": {},
   "outputs": [],
   "source": [
    "from math import *\n",
    "    \n",
    "def distance_formula(longitude1, latitude1, longitude2, latitude2):\n",
    "    travel_dist = []\n",
    "    \n",
    "    for pos in range (len(longitude1)):\n",
    "        lon1, lan1, lon2, lan2 = map(radians, [longitude1[pos], latitude1[pos], longitude2[pos], latitude2[pos]])\n",
    "        dist_lon = lon2 - lon1\n",
    "        dist_lan = lan2 - lan1\n",
    "        \n",
    "        a = sin(dist_lan/2)**2 + cos(lan1) * cos(lan2) * sin(dist_lon/2)**2\n",
    "        c = 2 * asin(sqrt(a)) * 6371 \n",
    "        travel_dist.append(c)\n",
    "            \n",
    "    return  travel_dist"
   ]
  },
  {
   "cell_type": "code",
   "execution_count": null,
   "id": "92dfb4bf-98fb-4578-b115-a1cc5549b8fe",
   "metadata": {},
   "outputs": [],
   "source": [
    "df['dist_travel_km'] = distance_formula(df.pickup_longitude.to_numpy(), df.pickup_latitude.to_numpy(), \n",
    "                                        df.dropoff_longitude.to_numpy(), df.dropoff_latitude.to_numpy())"
   ]
  },
  {
   "cell_type": "code",
   "execution_count": null,
   "id": "5dd537ce-99a1-4008-b467-52b2f2d8ebe6",
   "metadata": {},
   "outputs": [],
   "source": [
    "df.plot(kind = \"box\",subplots = True,layout = (6,2),figsize=(15,20)) \n",
    "plt.show()"
   ]
  },
  {
   "cell_type": "code",
   "execution_count": null,
   "id": "2bd4017d-c661-4b6f-b58b-322f44da3fa7",
   "metadata": {},
   "outputs": [],
   "source": [
    "def remove_outlier(df1 , col):\n",
    "    Q1 = df1[col].quantile(0.25)\n",
    "    Q3 = df1[col].quantile(0.75)\n",
    "    IQR = Q3 - Q1\n",
    "    lower_whisker = Q1-1.5*IQR\n",
    "    upper_whisker = Q3+1.5*IQR\n",
    "    df[col] = np.clip(df1[col] , lower_whisker , upper_whisker)\n",
    "    return df1\n",
    "\n",
    "def treat_outliers_all(df1 , col_list):\n",
    "    for c in col_list:\n",
    "        df1 = remove_outlier(df , c)\n",
    "    return df1"
   ]
  },
  {
   "cell_type": "code",
   "execution_count": null,
   "id": "a8be2e29-c2e8-412e-9888-44abf635f3d0",
   "metadata": {},
   "outputs": [],
   "source": [
    "df = treat_outliers_all(df , df.iloc[: , 0::])"
   ]
  },
  {
   "cell_type": "code",
   "execution_count": null,
   "id": "fffd0aa1-621d-485e-8f00-14dea4939cf7",
   "metadata": {},
   "outputs": [],
   "source": [
    "df.plot(kind = \"box\",subplots = True,layout = (7,2),figsize=(15,20)) \n",
    "plt.show()"
   ]
  },
  {
   "cell_type": "code",
   "execution_count": null,
   "id": "31c6ac24-c37e-4051-88ea-7e20ebb590ca",
   "metadata": {},
   "outputs": [],
   "source": [
    "corr = df.corr() \n",
    "corr"
   ]
  },
  {
   "cell_type": "code",
   "execution_count": null,
   "id": "aafccaeb-befd-4871-b1c7-c5bef47d4a86",
   "metadata": {},
   "outputs": [],
   "source": [
    "fig,axis = plt.subplots(figsize = (10,6))\n",
    "sns.heatmap(df.corr(),annot = True)"
   ]
  },
  {
   "cell_type": "code",
   "execution_count": null,
   "id": "7556ae92-9f88-4e93-aff7-8cb5e31932f2",
   "metadata": {},
   "outputs": [],
   "source": [
    "df_x = df[['pickup_longitude','pickup_latitude','dropoff_longitude','dropoff_latitude',\n",
    "           'passenger_count','hour','day','month','year','dayofweek','dist_travel_km']]\n",
    "df_y = df['fare_amount']"
   ]
  },
  {
   "cell_type": "code",
   "execution_count": null,
   "id": "76066d0d-d7b4-4fbb-85b7-c7a243ff769f",
   "metadata": {},
   "outputs": [],
   "source": [
    "x_train, x_test, y_train, y_test = train_test_split(df_x, df_y, test_size=0.2, random_state=1)"
   ]
  },
  {
   "cell_type": "code",
   "execution_count": null,
   "id": "03b2f232-c910-44bf-bf72-a444c8ada013",
   "metadata": {},
   "outputs": [],
   "source": [
    "df"
   ]
  },
  {
   "cell_type": "code",
   "execution_count": null,
   "id": "46c823a0-8c04-4980-a445-716d0245149e",
   "metadata": {},
   "outputs": [],
   "source": [
    "from sklearn.linear_model import LinearRegression\n",
    "\n",
    "reg = LinearRegression()\n",
    "\n",
    "reg.fit(x_train, y_train)"
   ]
  },
  {
   "cell_type": "code",
   "execution_count": null,
   "id": "6654c427-15c2-4f88-a1ea-aa890a25c899",
   "metadata": {},
   "outputs": [],
   "source": [
    "y_pred_lin = reg.predict(x_test)\n",
    "print(y_pred_lin)"
   ]
  },
  {
   "cell_type": "code",
   "execution_count": null,
   "id": "97a34376-3bc6-4e3c-ad67-33e3227bde60",
   "metadata": {},
   "outputs": [],
   "source": [
    "from sklearn.ensemble import RandomForestRegressor\n",
    "\n",
    "rf = RandomForestRegressor(n_estimators=100)\n",
    "rf.fit(x_train,y_train)"
   ]
  },
  {
   "cell_type": "code",
   "execution_count": null,
   "id": "f33a0727-8bc5-493f-8e0b-a771317983c7",
   "metadata": {},
   "outputs": [],
   "source": [
    "y_pred_rf = rf.predict(x_test)\n",
    "print(y_pred_rf)"
   ]
  },
  {
   "cell_type": "code",
   "execution_count": null,
   "id": "f6013b63-a6a1-4a20-bb42-ee7e5d8b4848",
   "metadata": {},
   "outputs": [],
   "source": [
    "cols = ['Model', 'RMSE', 'R-Squared']\n",
    "\n",
    "result_tabulation = pd.DataFrame(columns = cols)"
   ]
  },
  {
   "cell_type": "code",
   "execution_count": null,
   "id": "5f48dc93-b5d3-4733-b09f-3e1485dd2438",
   "metadata": {},
   "outputs": [],
   "source": [
    "import pandas as pd\n",
    "import numpy as np\n",
    "from sklearn import metrics\n",
    "from sklearn.metrics import r2_score\n",
    "\n",
    "result_tabulation = pd.DataFrame()\n",
    "reg_RMSE = np.sqrt(metrics.mean_squared_error(y_test, y_pred_lin))\n",
    "reg_squared = r2_score(y_test, y_pred_lin)\n",
    "\n",
    "full_metrics = pd.Series({'Model': \"Linear Regression\", 'RMSE' : reg_RMSE, 'R-Squared' : reg_squared})\n",
    "for i in range(0,len(result_tabulation)):\n",
    "    result_tabulation = result_tabulation.drop(i)\n",
    "\n",
    "result_tabulation = pd.concat([result_tabulation, full_metrics.to_frame().transpose()], ignore_index=True)\n",
    "\n",
    "print(result_tabulation)"
   ]
  },
  {
   "cell_type": "code",
   "execution_count": null,
   "id": "814114f3-52bd-4856-830d-20982bdf66b9",
   "metadata": {},
   "outputs": [],
   "source": [
    "rf_RMSE = np.sqrt(metrics.mean_squared_error(y_test, y_pred_rf))\n",
    "rf_squared = r2_score(y_test, y_pred_rf)\n",
    "\n",
    "full_metrics_rf = pd.Series({'Model': \"Random Forest\", 'RMSE': rf_RMSE, 'R-Squared': rf_squared})\n",
    "\n",
    "for i in range(0,len(result_tabulation)):\n",
    "    result_tabulation = result_tabulation.drop(i)\n",
    "\n",
    "result_tabulation = pd.concat([result_tabulation, full_metrics_rf.to_frame().transpose()], ignore_index=True)\n",
    "\n",
    "print(result_tabulation)"
   ]
  }
 ],
 "metadata": {
  "kernelspec": {
   "display_name": "Python 3 (ipykernel)",
   "language": "python",
   "name": "python3"
  },
  "language_info": {
   "codemirror_mode": {
    "name": "ipython",
    "version": 3
   },
   "file_extension": ".py",
   "mimetype": "text/x-python",
   "name": "python",
   "nbconvert_exporter": "python",
   "pygments_lexer": "ipython3",
   "version": "3.12.0"
  }
 },
 "nbformat": 4,
 "nbformat_minor": 5
}
